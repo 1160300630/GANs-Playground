{
 "cells": [
  {
   "cell_type": "code",
   "execution_count": 1,
   "metadata": {},
   "outputs": [
    {
     "name": "stderr",
     "output_type": "stream",
     "text": [
      "c:\\users\\fanhangming\\appdata\\local\\programs\\python\\python35\\lib\\site-packages\\h5py\\__init__.py:36: FutureWarning: Conversion of the second argument of issubdtype from `float` to `np.floating` is deprecated. In future, it will be treated as `np.float64 == np.dtype(float).type`.\n",
      "  from ._conv import register_converters as _register_converters\n"
     ]
    }
   ],
   "source": [
    "import numpy as np\n",
    "import matplotlib.pyplot\n",
    "import json\n",
    "import progressbar\n",
    "import tensorflow as tf\n",
    "import matplotlib.pyplot as plt\n",
    "import cv2"
   ]
  },
  {
   "cell_type": "code",
   "execution_count": 1,
   "metadata": {},
   "outputs": [],
   "source": [
    "text2code = {}\n",
    "text = ['orange hair', 'white hair', 'aqua hair', 'gray hair',\n",
    " 'green hair', 'red hair', 'purple hair', 'pink hair',\n",
    "  'blue hair', 'black hair', 'brown hair', 'blonde hair',  'black eyes', 'orange eyes',\n",
    " 'pink eyes', 'yellow eyes', 'aqua eyes', 'purple eyes',\n",
    " 'green eyes', 'brown eyes', 'red eyes', 'blue eyes']\n",
    "for i in range(len(text)):\n",
    "    text2code[text[i]] = i"
   ]
  },
  {
   "cell_type": "code",
   "execution_count": 2,
   "metadata": {},
   "outputs": [
    {
     "data": {
      "text/plain": [
       "22"
      ]
     },
     "execution_count": 2,
     "metadata": {},
     "output_type": "execute_result"
    }
   ],
   "source": [
    "len(text)"
   ]
  },
  {
   "cell_type": "code",
   "execution_count": 3,
   "metadata": {},
   "outputs": [],
   "source": [
    "labels = []\n",
    "with open('./dataset/extra_data/tags.csv', 'r') as f:\n",
    "    for line in f.readlines():\n",
    "        label = np.zeros(22, dtype=np.float32)\n",
    "        line = line.split(',')[1].split(' ')\n",
    "        hair = line[0] + ' ' + line[1]\n",
    "        eyes = line[2] + ' ' + line[3]\n",
    "        label[text2code[hair]] += 1\n",
    "        label[text2code[eyes[:-1]]] += 1\n",
    "        labels.append(label)"
   ]
  },
  {
   "cell_type": "code",
   "execution_count": 4,
   "metadata": {},
   "outputs": [],
   "source": [
    "progress = progressbar.ProgressBar()"
   ]
  },
  {
   "cell_type": "code",
   "execution_count": 5,
   "metadata": {},
   "outputs": [
    {
     "name": "stderr",
     "output_type": "stream",
     "text": [
      "100% (36740 of 36740) |##################| Elapsed Time: 0:02:09 Time:  0:02:09\n"
     ]
    }
   ],
   "source": [
    "img_num = 36740\n",
    "images = []\n",
    "progress.start(img_num)\n",
    "for i in range(img_num):\n",
    "    img = plt.imread('./dataset/extra_data/images/' + str(i) + '.jpg')\n",
    "    cv2.resize(img, (64, 64), interpolation = cv2.INTER_CUBIC)\n",
    "    img = img / 127.5 - 1\n",
    "    images.append(img.astype(np.float32))\n",
    "    progress.update(i)\n",
    "progress.finish()"
   ]
  },
  {
   "cell_type": "code",
   "execution_count": 7,
   "metadata": {},
   "outputs": [
    {
     "name": "stderr",
     "output_type": "stream",
     "text": [
      "100% (36740 of 36740) |##################| Elapsed Time: 0:06:57 Time:  0:06:57\n"
     ]
    }
   ],
   "source": [
    "writer = tf.python_io.TFRecordWriter('./dataset/tfrecords/anime_label.tfrecords')\n",
    "progress = progressbar.ProgressBar()\n",
    "progress.start(len(labels))\n",
    "for i in range(img_num):\n",
    "    label = labels[i].reshape(-1).tobytes()\n",
    "    image = images[i].reshape(-1).tobytes()\n",
    "    example = tf.train.Example(\n",
    "        features = tf.train.Features(feature={\n",
    "            'label': tf.train.Feature(bytes_list=tf.train.BytesList(value=[label])),\n",
    "            'image': tf.train.Feature(bytes_list=tf.train.BytesList(value=[image]))\n",
    "        }))\n",
    "    writer.write(example.SerializeToString())\n",
    "    progress.update(i)\n",
    "writer.close()\n",
    "progress.finish()"
   ]
  },
  {
   "cell_type": "code",
   "execution_count": 2,
   "metadata": {},
   "outputs": [],
   "source": [
    "def read_and_decode(file_name):\n",
    "    filename_queue = tf.train.string_input_producer([file_name])\n",
    "    reader = tf.TFRecordReader()\n",
    "    _, serialized_example = reader.read(filename_queue)\n",
    "\n",
    "    features = tf.parse_single_example(serialized_example, features={\n",
    "        'label': tf.FixedLenFeature([], tf.string),\n",
    "        'image': tf.FixedLenFeature([], tf.string)\n",
    "    })\n",
    "    \n",
    "    label = tf.decode_raw(features['label'], tf.float32)\n",
    "    image = tf.decode_raw(features['image'], tf.float32)\n",
    "    \n",
    "    image.set_shape([64*64*3])\n",
    "    image = tf.reshape(image, [64, 64, 3])\n",
    "    label.set_shape([22])\n",
    "    label = tf.reshape(label, [22])\n",
    "    return image, label"
   ]
  },
  {
   "cell_type": "markdown",
   "metadata": {},
   "source": [
    "Test"
   ]
  },
  {
   "cell_type": "code",
   "execution_count": 3,
   "metadata": {},
   "outputs": [
    {
     "name": "stdout",
     "output_type": "stream",
     "text": [
      "here\n",
      "here here\n",
      "here here here\n"
     ]
    },
    {
     "data": {
      "image/png": "[encoded data removed]",
      "text/plain": [
       "<matplotlib.figure.Figure at 0x21ea97dfd68>"
      ]
     },
     "metadata": {},
     "output_type": "display_data"
    }
   ],
   "source": [
    "# mmp...........\n",
    "#feature, label = read_and_decode(\"./dataset/anime_label.tfrecords\")\n",
    "#feature, label = read_and_decode(\"./dataset/tfrecords/anime_label.tfrecords\")\n",
    "feature, label = read_and_decode('train.tfrecords')\n",
    "feature, label = read_and_decode('./dataset/tfrecords/anime_label.tfrecords')\n",
    "\n",
    "feature_batch, label_batch = tf.train.shuffle_batch([feature, label],\n",
    "                                                   batch_size=32,\n",
    "                                                   capacity=100, min_after_dequeue=80)\n",
    "\n",
    "with tf.Session() as sess:\n",
    "    print('here')\n",
    "    sess.run(tf.global_variables_initializer())\n",
    "    coord = tf.train.Coordinator()\n",
    "    threads = tf.train.start_queue_runners(sess=sess, coord=coord)\n",
    "    print('here here')\n",
    "    f__, l__ = sess.run([feature_batch, label_batch])\n",
    "    print('here here here')\n",
    "    plt.imshow(np.uint8(f__[0]))\n",
    "    coord.request_stop()\n",
    "    coord.join(threads)"
   ]
  }
 ],
 "metadata": {
  "kernelspec": {
   "display_name": "Python 3",
   "language": "python",
   "name": "python3"
  },
  "language_info": {
   "codemirror_mode": {
    "name": "ipython",
    "version": 3
   },
   "file_extension": ".py",
   "mimetype": "text/x-python",
   "name": "python",
   "nbconvert_exporter": "python",
   "pygments_lexer": "ipython3",
   "version": "3.5.2"
  }
 },
 "nbformat": 4,
 "nbformat_minor": 2
}
